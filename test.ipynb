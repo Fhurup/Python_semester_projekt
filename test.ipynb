{
 "cells": [
  {
   "cell_type": "markdown",
   "metadata": {},
   "source": [
    "### Test file"
   ]
  },
  {
   "cell_type": "code",
   "execution_count": 9,
   "metadata": {},
   "outputs": [
    {
     "data": {
      "text/plain": [
       "['Alle',\n",
       " 'Abarth',\n",
       " 'Adria',\n",
       " 'Alfa Romeo',\n",
       " 'Alpina',\n",
       " 'Aston Martin',\n",
       " 'Audi',\n",
       " 'Austin',\n",
       " 'Bentley',\n",
       " 'BMW',\n",
       " 'Buick',\n",
       " 'Cadillac',\n",
       " 'Chevrolet',\n",
       " 'Chrysler',\n",
       " 'Citroën',\n",
       " 'Cupra',\n",
       " 'Dacia',\n",
       " 'Daewoo',\n",
       " 'DAF',\n",
       " 'Daihatsu',\n",
       " 'Daimler',\n",
       " 'Datsun',\n",
       " 'Dodge',\n",
       " 'DS',\n",
       " 'Ferrari',\n",
       " 'Fiat',\n",
       " 'Ford',\n",
       " 'Heinkel',\n",
       " 'Hillman',\n",
       " 'Honda',\n",
       " 'Hummer',\n",
       " 'Hyundai',\n",
       " 'Infiniti',\n",
       " 'Isuzu',\n",
       " 'Jaguar',\n",
       " 'Jeep',\n",
       " 'Kia',\n",
       " 'KTM',\n",
       " 'Lada',\n",
       " 'Lamborghini',\n",
       " 'Lancia',\n",
       " 'Land Rover',\n",
       " 'Lexus',\n",
       " 'Lotus',\n",
       " 'MAN',\n",
       " 'Maserati',\n",
       " 'Maxus',\n",
       " 'Mazda',\n",
       " 'McLaren',\n",
       " 'Mercedes-Benz',\n",
       " 'Mercury',\n",
       " 'Messerschmidt',\n",
       " 'MG',\n",
       " 'Mini',\n",
       " 'Mitsubishi',\n",
       " 'Morgan',\n",
       " 'Morris',\n",
       " 'Nissan',\n",
       " 'NSU',\n",
       " 'Opel',\n",
       " 'Peugeot',\n",
       " 'Plymouth',\n",
       " 'Polaris',\n",
       " 'Polestar',\n",
       " 'Pontiac',\n",
       " 'Porsche',\n",
       " 'Renault',\n",
       " 'Rolls-Royce',\n",
       " 'Rover',\n",
       " 'Royal',\n",
       " 'Seat',\n",
       " 'Skoda',\n",
       " 'Smart',\n",
       " 'SsangYong',\n",
       " 'Subaru',\n",
       " 'Sunbeam',\n",
       " 'Sunbeam Talbot',\n",
       " 'Suzuki',\n",
       " 'Saab',\n",
       " 'Tesla',\n",
       " 'Toyota',\n",
       " 'Trabant',\n",
       " 'Triumph',\n",
       " 'Volvo',\n",
       " 'VW',\n",
       " 'Watercar']"
      ]
     },
     "execution_count": 9,
     "metadata": {},
     "output_type": "execute_result"
    }
   ],
   "source": [
    "makes=\"Alle\\n\\nAbarth\\n\\nAdria\\n\\nAlfa Romeo\\n\\nAlpina\\n\\nAston Martin\\n\\nAudi\\n\\nAustin\\n\\nBentley\\n\\nBMW\\n\\nBuick\\n\\nCadillac\\n\\nChevrolet\\n\\nChrysler\\n\\nCitroën\\n\\nCupra\\n\\nDacia\\n\\nDaewoo\\n\\nDAF\\n\\nDaihatsu\\n\\nDaimler\\n\\nDatsun\\n\\nDodge\\n\\nDS\\n\\nFerrari\\n\\nFiat\\n\\nFord\\n\\nHeinkel\\n\\nHillman\\n\\nHonda\\n\\nHummer\\n\\nHyundai\\n\\nInfiniti\\n\\nIsuzu\\n\\nJaguar\\n\\nJeep\\n\\nKia\\n\\nKTM\\n\\nLada\\n\\nLamborghini\\n\\nLancia\\n\\nLand Rover\\n\\nLexus\\n\\nLotus\\n\\nMAN\\n\\nMaserati\\n\\nMaxus\\n\\nMazda\\n\\nMcLaren\\n\\nMercedes-Benz\\n\\nMercury\\n\\nMesserschmidt\\n\\nMG\\n\\nMini\\n\\nMitsubishi\\n\\nMorgan\\n\\nMorris\\n\\nNissan\\n\\nNSU\\n\\nOpel\\n\\nPeugeot\\n\\nPlymouth\\n\\nPolaris\\n\\nPolestar\\n\\nPontiac\\n\\nPorsche\\n\\nRenault\\n\\nRolls-Royce\\n\\nRover\\n\\nRoyal\\n\\nSeat\\n\\nSkoda\\n\\nSmart\\n\\nSsangYong\\n\\nSubaru\\n\\nSunbeam\\n\\nSunbeam Talbot\\n\\nSuzuki\\n\\nSaab\\n\\nTesla\\n\\nToyota\\n\\nTrabant\\n\\nTriumph\\n\\nVolvo\\n\\nVW\\n\\nWatercar\"\n",
    "makes=makes.replace(\"\\n\\n\",\";\")\n",
    "makes=makes.split(';')\n",
    "makes"
   ]
  }
 ],
 "metadata": {
  "kernelspec": {
   "display_name": "Python 3",
   "language": "python",
   "name": "python3"
  },
  "language_info": {
   "codemirror_mode": {
    "name": "ipython",
    "version": 3
   },
   "file_extension": ".py",
   "mimetype": "text/x-python",
   "name": "python",
   "nbconvert_exporter": "python",
   "pygments_lexer": "ipython3",
   "version": "3.7.6"
  }
 },
 "nbformat": 4,
 "nbformat_minor": 2
}
